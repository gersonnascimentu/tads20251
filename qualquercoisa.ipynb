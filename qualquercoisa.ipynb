{
 "cells": [
  {
   "cell_type": "markdown",
   "id": "c18432b3",
   "metadata": {},
   "source": [
    "# Meu querido notebook"
   ]
  },
  {
   "cell_type": "markdown",
   "id": "aa8663e4",
   "metadata": {},
   "source": [
    "Estou fazendo um notebook, mas meu professor disse para não usar"
   ]
  },
  {
   "cell_type": "markdown",
   "id": "8028301d",
   "metadata": {},
   "source": [
    "## Meu primeiro código python"
   ]
  },
  {
   "cell_type": "markdown",
   "id": "84a7d996",
   "metadata": {},
   "source": [
    "123"
   ]
  },
  {
   "cell_type": "markdown",
   "id": "b2a5d3ac",
   "metadata": {},
   "source": [
    "# 123"
   ]
  },
  {
   "cell_type": "code",
   "execution_count": null,
   "id": "982abe75",
   "metadata": {},
   "outputs": [
    {
     "name": "stdout",
     "output_type": "stream",
     "text": [
      "1\n"
     ]
    }
   ],
   "source": []
  }
 ],
 "metadata": {
  "kernelspec": {
   "display_name": "Python 3",
   "language": "python",
   "name": "python3"
  },
  "language_info": {
   "codemirror_mode": {
    "name": "ipython",
    "version": 3
   },
   "file_extension": ".py",
   "mimetype": "text/x-python",
   "name": "python",
   "nbconvert_exporter": "python",
   "pygments_lexer": "ipython3",
   "version": "3.12.1"
  }
 },
 "nbformat": 4,
 "nbformat_minor": 5
}
